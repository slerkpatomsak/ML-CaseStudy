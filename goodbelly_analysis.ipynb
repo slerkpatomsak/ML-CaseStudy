{
 "cells": [
  {
   "cell_type": "markdown",
   "metadata": {},
   "source": [
    "            Revenue     increase from No Demo\n",
    "No Demo  $904.600591\n",
    "\n",
    "Demo     $1519.457800   $614.8572089999999\n",
    "\n",
    "Demo1-3  $1351.786870   $447.1862789999999\n",
    "\n",
    "Demo4-5  $1315.198865   $410.59827400000006\n",
    "\n",
    "on Avg, revenue increase $491 if the store had a demo on the corresponding week. In analysis suggests that the postive effects of demo continue to up to 5 weeks after demo conducted "
   ]
  },
  {
   "cell_type": "code",
   "execution_count": 12,
   "metadata": {
    "collapsed": true
   },
   "outputs": [],
   "source": [
    "import numpy as np "
   ]
  },
  {
   "cell_type": "code",
   "execution_count": 3,
   "metadata": {},
   "outputs": [
    {
     "data": {
      "text/plain": [
       "410.59827400000006"
      ]
     },
     "execution_count": 3,
     "metadata": {},
     "output_type": "execute_result"
    }
   ],
   "source": [
    "1315.198865-904.600591"
   ]
  },
  {
   "cell_type": "code",
   "execution_count": 5,
   "metadata": {},
   "outputs": [
    {
     "data": {
      "text/plain": [
       "490.88058733333327"
      ]
     },
     "execution_count": 5,
     "metadata": {},
     "output_type": "execute_result"
    }
   ],
   "source": [
    "(614.8572089999999+447.1862789999999+410.59827400000006)/3"
   ]
  },
  {
   "cell_type": "code",
   "execution_count": 6,
   "metadata": {},
   "outputs": [
    {
     "name": "stdout",
     "output_type": "stream",
     "text": [
      "45.3900072789141\n"
     ]
    }
   ],
   "source": [
    "increase = 1315.1988651-904.600591\n",
    "percent_increase = increase/904.600591*100\n",
    "print(percent_increase)"
   ]
  },
  {
   "cell_type": "code",
   "execution_count": 7,
   "metadata": {},
   "outputs": [
    {
     "name": "stdout",
     "output_type": "stream",
     "text": [
      "49.43466580158357\n"
     ]
    }
   ],
   "source": [
    "increase = 1351.786870-904.600591\n",
    "percent_increase = increase/904.600591*100\n",
    "print(percent_increase)"
   ]
  },
  {
   "cell_type": "code",
   "execution_count": 8,
   "metadata": {},
   "outputs": [
    {
     "name": "stdout",
     "output_type": "stream",
     "text": [
      "67.97002070497209\n"
     ]
    }
   ],
   "source": [
    "increase = 1519.457800-904.600591\n",
    "percent_increase = increase/904.600591*100\n",
    "print(percent_increase)"
   ]
  },
  {
   "cell_type": "code",
   "execution_count": 9,
   "metadata": {},
   "outputs": [
    {
     "data": {
      "text/plain": [
       "1300.0814220000002"
      ]
     },
     "execution_count": 9,
     "metadata": {},
     "output_type": "execute_result"
    }
   ],
   "source": [
    "2291.863503-991.782081"
   ]
  },
  {
   "cell_type": "code",
   "execution_count": 10,
   "metadata": {},
   "outputs": [
    {
     "name": "stdout",
     "output_type": "stream",
     "text": [
      "2.0690346193037574\n"
     ]
    }
   ],
   "source": [
    "increase = 795.583980-779.456750\n",
    "percent_increase = increase/779.456750*100\n",
    "print(percent_increase)"
   ]
  },
  {
   "cell_type": "code",
   "execution_count": null,
   "metadata": {
    "collapsed": true
   },
   "outputs": [],
   "source": [
    "increase = 795.583980-779.456750\n",
    "percent_increase = increase/779.456750*100\n",
    "print(percent_increase)"
   ]
  },
  {
   "cell_type": "code",
   "execution_count": 45,
   "metadata": {
    "collapsed": true
   },
   "outputs": [],
   "source": [
    "def increase_percentage(new,original):\n",
    "    increase = new-original\n",
    "    return np.round(increase/original*100)"
   ]
  },
  {
   "cell_type": "code",
   "execution_count": 27,
   "metadata": {},
   "outputs": [
    {
     "name": "stdout",
     "output_type": "stream",
     "text": [
      "FL_SaleCap 2.0\n",
      "MA_SaleCap 17.0\n",
      "NC_SaleCap 164.0\n",
      "PN_SaleCap 159.0\n",
      "RM_SaleCap 138.0\n",
      "Avergae 96.0\n"
     ]
    }
   ],
   "source": [
    "print(\"FL_SaleCap\",increase_percentage(795.583980,779.456750))\n",
    "print(\"MA_SaleCap\",increase_percentage(934.010918,798.158277))\n",
    "print(\"NC_SaleCap\",increase_percentage(3253.546507,1230.410859))\n",
    "print(\"PN_SaleCap\",increase_percentage(2734.544965, 1055.330927))\n",
    "print(\"RM_SaleCap\",increase_percentage(2955.703588, 1244.124305))\n",
    "print(\"Avergae\",(2.0+17.0+164+159+138)/5)"
   ]
  },
  {
   "cell_type": "code",
   "execution_count": 35,
   "metadata": {},
   "outputs": [
    {
     "name": "stdout",
     "output_type": "stream",
     "text": [
      "MA_Demo 351.857176\n",
      "MW_Demo 463.035427\n",
      "NC_Demo 528.9011539999999\n",
      "NE_Demo 393.89575200000013\n",
      "PN_Demo 1340.8449699999999\n",
      "RM_Demo 565.0630270000001\n",
      "Avergae 607.266251\n"
     ]
    }
   ],
   "source": [
    "print(\"MA_Demo\",1133.713203-781.856027)\n",
    "print(\"MW_Demo\",1528.894015-1065.858588)\n",
    "print(\"NC_Demo\",1914.384282-1385.483128)\n",
    "print(\"NE_Demo\",1419.536700-1025.640948)\n",
    "print(\"PN_Demo\",2576.174674-1235.329704)\n",
    "print(\"RM_Demo\",1789.235593-1224.172566)\n",
    "print(\"Avergae\",(351.857176+463.035427+528.9011539999999+393.89575200000013+1340.8449699999999+565.0630270000001)/6)"
   ]
  },
  {
   "cell_type": "code",
   "execution_count": 37,
   "metadata": {},
   "outputs": [
    {
     "name": "stdout",
     "output_type": "stream",
     "text": [
      "FL_Demo5 431.609591\n",
      "MA_Demo5 169.40998100000002\n",
      "MW_Demo5 362.12240999999995\n",
      "NC_Demo5 144.03799600000002\n",
      "NE_Demo5 93.28772000000004\n",
      "PN_Demo5 201.997887\n",
      "RM_Demo5 485.5303489999999\n",
      "SP_Demo5 213.73452899999984\n",
      "Avergae 262.716307875\n"
     ]
    }
   ],
   "source": [
    "print(\"FL_Demo5\",1203.272936-771.663345)\n",
    "print(\"MA_Demo5\", 960.120297-790.710316)\n",
    "print(\"MW_Demo5\",1452.130874-1090.008464)\n",
    "print(\"NC_Demo5\",1536.546339-1392.508343)\n",
    "print(\"NE_Demo5\",1131.085119-1037.797399)\n",
    "print(\"PN_Demo5\",1537.517169-1335.519282)\n",
    "print(\"RM_Demo5\",1725.685217-1240.154868)\n",
    "print(\"SP_Demo5\",1432.832205-1219.097676)\n",
    "print(\"Avergae\",(431.609591+169.40998100000002+362.12240999999995+144.03799600000002+93.28772000000004+201.997887+485.5303489999999+213.73452899999984)/8)"
   ]
  },
  {
   "cell_type": "code",
   "execution_count": 39,
   "metadata": {},
   "outputs": [
    {
     "name": "stdout",
     "output_type": "stream",
     "text": [
      "FL_Demo5 56.0\n",
      "MA_Demo5 21.0\n",
      "MW_Demo5 33.0\n",
      "NC_Demo5 10.0\n",
      "NE_Demo5 9.0\n",
      "PN_Demo5 15.0\n",
      "RM_Demo5 39.0\n",
      "SP_Demo5 18.0\n",
      "Avergae 25.125\n"
     ]
    }
   ],
   "source": [
    "print(\"FL_Demo5\",increase_percentage(1203.272936,771.663345))\n",
    "print(\"MA_Demo5\",increase_percentage(960.120297,790.710316)) \n",
    "print(\"MW_Demo5\",increase_percentage(1452.130874,1090.008464))\n",
    "print(\"NC_Demo5\",increase_percentage(1536.546339,1392.508343))\n",
    "print(\"NE_Demo5\",increase_percentage(1131.085119,1037.797399))\n",
    "print(\"PN_Demo5\",increase_percentage(1537.517169,1335.519282))\n",
    "print(\"RM_Demo5\",increase_percentage(1725.685217,1240.154868))\n",
    "print(\"SP_Demo5\",increase_percentage(1432.832205,1219.097676))\n",
    "print(\"Avergae\",(56.0+21.0+33.0+10.0+9.0+15.0+39.0+18.0)/8)"
   ]
  },
  {
   "cell_type": "code",
   "execution_count": 41,
   "metadata": {},
   "outputs": [
    {
     "name": "stdout",
     "output_type": "stream",
     "text": [
      "MA_Demo 45.0\n",
      "MW_Demo 43.0\n",
      "NC_Demo 38.0\n",
      "NE_Demo 38.0\n",
      "PN_Demo 109.0\n",
      "RM_Demo 46.0\n",
      "Avergae 53.166666666666664\n"
     ]
    }
   ],
   "source": [
    "print(\"MA_Demo\",increase_percentage(1133.713203,781.856027))\n",
    "print(\"MW_Demo\",increase_percentage(1528.894015,1065.858588))\n",
    "print(\"NC_Demo\",increase_percentage(1914.384282,1385.483128))\n",
    "print(\"NE_Demo\",increase_percentage(1419.536700,1025.640948))\n",
    "print(\"PN_Demo\",increase_percentage(2576.174674,1235.329704))\n",
    "print(\"RM_Demo\",increase_percentage(1789.235593,1224.172566))\n",
    "print(\"Avergae\",(45.0+43.0+38+38+109+46)/6)"
   ]
  },
  {
   "cell_type": "code",
   "execution_count": 43,
   "metadata": {},
   "outputs": [
    {
     "data": {
      "text/plain": [
       "100.0"
      ]
     },
     "execution_count": 43,
     "metadata": {},
     "output_type": "execute_result"
    }
   ],
   "source": [
    "increase_percentage(0.577,0.289)"
   ]
  },
  {
   "cell_type": "markdown",
   "metadata": {},
   "source": [
    "$\\hat{y} = 286.67 +23.43x_1 + 60.09x_2 + 81.26x_3 + 54.37x_4 + 80.57 x_5 + 65.09x_6 + 31.31x_7 + 66.38x_8 + 30.72x_9 -33.11x_{10} + 113.06x_{11} + 74.04x_{12} + 65.96x_{13} + 302.02x_{14} + 35.13x_{15}$"
   ]
  },
  {
   "cell_type": "markdown",
   "metadata": {},
   "source": [
    "$x_1$ = Mid  Atlantic(MA)\n",
    "\n",
    "$x_2$ = Midwest(MW)\n",
    "\n",
    "$x_3$ = North California(NC)\n",
    "\n",
    "$x_4$ = New England(NE)\n",
    "\n",
    "$x_5$ = Pacific Northwest(PN)\n",
    "\n",
    "$x_6$ = Rocky Mountain(RM)\n",
    "\n",
    "$x_7$ = South(SO)\n",
    "\n",
    "$x_8$ = South Pacific(SP)\n",
    "\n",
    "$x_9$ = Southwest(SW)\n",
    "\n",
    "$x_{10}$ = Average_Retail_Price\n",
    "\n",
    "$x_{11}$ = Demo\n",
    "\n",
    "$x_{12}$ = Demo1-3\n",
    "\n",
    "$x_{13}$ = Demo4_5\n",
    "\n",
    "$x_{14}$ = Endcap\n",
    "\n",
    "$x_{15}$ = Sales_Rep"
   ]
  },
  {
   "cell_type": "code",
   "execution_count": 47,
   "metadata": {},
   "outputs": [
    {
     "name": "stdout",
     "output_type": "stream",
     "text": [
      "17.0\n"
     ]
    }
   ],
   "source": [
    "print(increase_percentage(934.010918,798.158277))"
   ]
  },
  {
   "cell_type": "code",
   "execution_count": 48,
   "metadata": {},
   "outputs": [
    {
     "name": "stdout",
     "output_type": "stream",
     "text": [
      "164.0\n"
     ]
    }
   ],
   "source": [
    "print(increase_percentage(3253.546507,1230.410859))"
   ]
  },
  {
   "cell_type": "code",
   "execution_count": null,
   "metadata": {
    "collapsed": true
   },
   "outputs": [],
   "source": []
  }
 ],
 "metadata": {
  "kernelspec": {
   "display_name": "Python 3",
   "language": "python",
   "name": "python3"
  },
  "language_info": {
   "codemirror_mode": {
    "name": "ipython",
    "version": 3
   },
   "file_extension": ".py",
   "mimetype": "text/x-python",
   "name": "python",
   "nbconvert_exporter": "python",
   "pygments_lexer": "ipython3",
   "version": "3.6.3"
  }
 },
 "nbformat": 4,
 "nbformat_minor": 2
}
